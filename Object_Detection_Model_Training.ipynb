{
  "nbformat": 4,
  "nbformat_minor": 0,
  "metadata": {
    "colab": {
      "provenance": [],
      "authorship_tag": "ABX9TyO03uQy5kQnVp1mlIWig9SW",
      "include_colab_link": true
    },
    "kernelspec": {
      "name": "python3",
      "display_name": "Python 3"
    },
    "language_info": {
      "name": "python"
    }
  },
  "cells": [
    {
      "cell_type": "markdown",
      "metadata": {
        "id": "view-in-github",
        "colab_type": "text"
      },
      "source": [
        "<a href=\"https://colab.research.google.com/github/Projectmte2023/tankbot_one/blob/main/Object_Detection_Model_Training.ipynb\" target=\"_parent\"><img src=\"https://colab.research.google.com/assets/colab-badge.svg\" alt=\"Open In Colab\"/></a>"
      ]
    },
    {
      "cell_type": "markdown",
      "source": [
        "## **CREATING A YOLOV8 OBJECT DETECTION MODEL FOR DETECTING THE COLLECTED LITTER**\n",
        "\n",
        "Developed with reference to the ‘train-yolov8-object-detection-on-custom-dataset.ipynb’ notebook from from the github repository from Roboflow https://github.com/roboflow/notebooks."
      ],
      "metadata": {
        "id": "kePX0N6wyVjX"
      }
    },
    {
      "cell_type": "markdown",
      "source": [
        "Set GPU Access: Edit->Notebook Setting->Hardware Accelerator->GPU->Save"
      ],
      "metadata": {
        "id": "fc_kIuvUzEh4"
      }
    },
    {
      "cell_type": "code",
      "execution_count": null,
      "metadata": {
        "id": "yiSPJ7gyyFfm"
      },
      "outputs": [],
      "source": [
        "#Checking access to GPU\n",
        "!nvidia-smi"
      ]
    },
    {
      "cell_type": "code",
      "source": [
        "import os\n",
        "HOME = os.getcwd()\n",
        "print(HOME)"
      ],
      "metadata": {
        "id": "pkbvbIfgzSoa"
      },
      "execution_count": null,
      "outputs": []
    },
    {
      "cell_type": "markdown",
      "source": [
        "INSTALLING YOLOv8 VERSION: 8.20.0"
      ],
      "metadata": {
        "id": "0mA99fGrzVqc"
      }
    },
    {
      "cell_type": "code",
      "source": [
        "#pip installing YOLOv8\n",
        "!pip install ultralytics==8.0.20\n",
        "\n",
        "from IPython import display\n",
        "display.clear_output()\n",
        "\n",
        "import ultralytics\n",
        "ultralytics.checks()"
      ],
      "metadata": {
        "id": "A_Mt5HgO0e5q"
      },
      "execution_count": null,
      "outputs": []
    },
    {
      "cell_type": "code",
      "source": [
        "from ultralytics import YOLO\n",
        "\n",
        "from IPython.display import display, Image"
      ],
      "metadata": {
        "id": "TTD4AFTY0q86"
      },
      "execution_count": null,
      "outputs": []
    },
    {
      "cell_type": "markdown",
      "source": [
        "CREATED AND EXPORTED A CUSTOM DATASET USING ROBOFLOW"
      ],
      "metadata": {
        "id": "yyuJH6Md1G4U"
      }
    },
    {
      "cell_type": "code",
      "source": [
        "#Paste the exported download code below\n",
        "!mkdir {HOME}/datasets\n",
        "%cd {HOME}/datasets\n",
        "\n",
        "!pip install roboflow\n",
        "\n",
        "from roboflow import Roboflow\n",
        "rf = Roboflow(api_key=\"-------------------\") #unique key is entered in the dashed out field\n",
        "project = rf.workspace(\"project-dvxvx\").project(\"trash-detection_v2\")\n",
        "dataset = project.version(1).download(\"yolov8\")"
      ],
      "metadata": {
        "id": "mYe1S_xe1bQ9"
      },
      "execution_count": null,
      "outputs": []
    },
    {
      "cell_type": "markdown",
      "source": [
        "TRAINING THE MODEL"
      ],
      "metadata": {
        "id": "xERqRfoz1fXT"
      }
    },
    {
      "cell_type": "code",
      "source": [
        "#The number of epochs for training is decided in this step\n",
        "%cd {HOME}\n",
        "\n",
        "!yolo task=detect mode=train model=yolov8s.pt data={dataset.location}/data.yaml epochs=75 imgsz=800 plots=True"
      ],
      "metadata": {
        "id": "l4-UwEBv1hwX"
      },
      "execution_count": null,
      "outputs": []
    },
    {
      "cell_type": "code",
      "source": [
        "!ls {HOME}/runs/detect/train/"
      ],
      "metadata": {
        "id": "plsHeptj1kdb"
      },
      "execution_count": null,
      "outputs": []
    },
    {
      "cell_type": "code",
      "source": [
        "#Creating the confusion matrix\n",
        "%cd {HOME}\n",
        "Image(filename=f'{HOME}/runs/detect/train/confusion_matrix.png', width=600)"
      ],
      "metadata": {
        "id": "Cfa8SFdo2zc2"
      },
      "execution_count": null,
      "outputs": []
    },
    {
      "cell_type": "code",
      "source": [
        "#The training results\n",
        "%cd {HOME}\n",
        "Image(filename=f'{HOME}/runs/detect/train/results.png', width=600)"
      ],
      "metadata": {
        "id": "_hCf3xsB20HK"
      },
      "execution_count": null,
      "outputs": []
    },
    {
      "cell_type": "code",
      "source": [
        "#Initial prediction\n",
        "%cd {HOME}\n",
        "Image(filename=f'{HOME}/runs/detect/train/val_batch0_pred.jpg', width=600)"
      ],
      "metadata": {
        "id": "sylc7rle20Kk"
      },
      "execution_count": null,
      "outputs": []
    },
    {
      "cell_type": "code",
      "source": [
        "#Creating a zip file of the obtained weights for future use\n",
        "!zip -r weights.zip runs/detect/train/weights/"
      ],
      "metadata": {
        "id": "n-LbAKbk3HB_"
      },
      "execution_count": null,
      "outputs": []
    }
  ]
}